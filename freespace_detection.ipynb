{
  "nbformat": 4,
  "nbformat_minor": 0,
  "metadata": {
    "language_info": {
      "codemirror_mode": {
        "name": "ipython",
        "version": 3
      },
      "file_extension": ".py",
      "mimetype": "text/x-python",
      "name": "python",
      "nbconvert_exporter": "python",
      "pygments_lexer": "ipython3",
      "version": "3.8.3"
    },
    "orig_nbformat": 2,
    "kernelspec": {
      "name": "python383jvsc74a57bd03b7ace9d27dc1c502e3dae86da5e8433e0698b131550d06efd3a9ab1da013269",
      "display_name": "Python 3.8.3 64-bit ('base': conda)"
    },
    "colab": {
      "name": "Bản sao của test.ipynb",
      "provenance": [],
      "collapsed_sections": [],
      "machine_shape": "hm"
    },
    "accelerator": "GPU"
  },
  "cells": [
    {
      "cell_type": "code",
      "metadata": {
        "id": "q1QZUPtbexZd",
        "colab": {
          "base_uri": "https://localhost:8080/"
        },
        "outputId": "8ce820e8-0236-463e-c365-02c302d1ba0b"
      },
      "source": [
        "from google.colab import drive\n",
        "drive.mount('/content/drive')"
      ],
      "execution_count": null,
      "outputs": []
    },
    {
      "cell_type": "code",
      "metadata": {
        "id": "iK6SR7WVcyDK"
      },
      "source": [
        "# !pip install shapely\n",
        "# !git clone https://github.com/vietawake/ERFModel\n",
        "# !mv -v ERFModel/* ."
      ],
      "execution_count": null,
      "outputs": []
    },
    {
      "cell_type": "code",
      "execution_count": null,
      "metadata": {},
      "outputs": [],
      "source": [
        "from models.erfnet_road import ERFNet\n",
        "import torch\n",
        "import numpy as np\n",
        "from torch.utils.data import DataLoader\n",
        "import torchvision\n",
        "from tqdm import tqdm\n",
        "from torchvision import transforms\n",
        "from load_dataset import ImageDataset\n",
        "from train import train_one_epoch, CrossEntropyLoss2d, validate_model\n",
        "from PIL import Image\n",
        "import os"
      ]
    },
    {
      "cell_type": "code",
      "metadata": {
        "id": "cDATIIWbe7-3",
        "colab": {
          "base_uri": "https://localhost:8080/"
        },
        "outputId": "c7755f85-2346-4b2c-e2a9-072ad0e2e815"
      },
      "source": [
        "!unzip '/content/drive/MyDrive/mapplirary_vista_4labels.zip' -d ."
      ],
      "execution_count": null,
      "outputs": []
    },
    {
      "cell_type": "code",
      "metadata": {
        "id": "8lqFaWVXib72"
      },
      "source": [
        "def generate_txtdata(path, file_name, label_name):\n",
        "  images_name = os.listdir(path)\n",
        "  for i in tqdm(range(len(images_name))):\n",
        "    name = images_name[i][:-4]\n",
        "    image = 'images/'+ name +'.jpg'\n",
        "    label = label_name + name + '.png'\n",
        "    sample_data = ', '.join([image, label])\n",
        "    images_name[i] = sample_data\n",
        "  return np.savetxt(file_name,images_name, delimiter='\\n', fmt=\"%s\")"
      ],
      "execution_count": null,
      "outputs": []
    },
    {
      "cell_type": "code",
      "execution_count": null,
      "metadata": {},
      "outputs": [],
      "source": [
        "torch.backends.cudnn.enabled = True\n",
        "torch.backends.cudnn.benchmark = True\n",
        "np.random.seed(50)\n",
        "torch.manual_seed(50)\n",
        "\n",
        "if torch.cuda.is_available():\n",
        "    torch.cuda.manual_seed(50)\n",
        "\n",
        "device = torch.device(\"cuda:0\" if torch.cuda.is_available() else \"cpu\")"
      ]
    },
    {
      "cell_type": "code",
      "metadata": {
        "id": "vRlotBv0cyDP"
      },
      "source": [
        "net = ERFNet(num_classes=4)"
      ],
      "execution_count": null,
      "outputs": []
    },
    {
      "cell_type": "code",
      "metadata": {
        "id": "8vjhNTq5ifPl",
        "colab": {
          "base_uri": "https://localhost:8080/"
        },
        "outputId": "eed1d031-4899-400b-e310-7314e4bcb848"
      },
      "source": [
        "generate_txtdata(path='validation/images', file_name='val_list.txt',label_name='val_labels/')\n",
        "generate_txtdata(path='training/images', file_name='train_list.txt',label_name='train_labels/')"
      ],
      "execution_count": null,
      "outputs": []
    },
    {
      "cell_type": "code",
      "metadata": {
        "id": "MAUKSaiJcyDO"
      },
      "source": [
        "pretrained_model = torch.load('./pretrained_models/weights_erfnet_road.pth',  map_location=device)\n",
        "new_mw = {}\n",
        "for k,w in pretrained_model.items():\n",
        "    new_mw[k[7:]] = w"
      ],
      "execution_count": null,
      "outputs": []
    },
    {
      "cell_type": "code",
      "metadata": {
        "id": "2Pu2UDotcyDP"
      },
      "source": [
        "net.state_dict().update(new_mw)"
      ],
      "execution_count": null,
      "outputs": []
    },
    {
      "cell_type": "code",
      "metadata": {
        "id": "2aZ7JrdmcyDQ"
      },
      "source": [
        "num_epochs = 50\n",
        "max_acc = 0\n",
        "patience = 10\n",
        "not_improved_count = 0\n",
        "batch_size = 4"
      ],
      "execution_count": null,
      "outputs": []
    },
    {
      "cell_type": "code",
      "metadata": {
        "id": "9dKX3Ii_cyDQ",
        "colab": {
          "base_uri": "https://localhost:8080/"
        },
        "outputId": "1320ccc2-cc4f-4842-b1c8-2c068b93af81"
      },
      "source": [
        "transform = transforms.Compose([\n",
        "    torchvision.transforms.Resize((360, 640),interpolation=Image.NEAREST),\n",
        "    # torchvision.transforms.RandomHorizontalFlip(),\n",
        "    # torchvision.transforms.ToTensor()\n",
        "])\n",
        "\n",
        "\n",
        "train_dataset = ImageDataset(root_dir='training/',\n",
        "                              txt_files='data/train_list.txt', \n",
        "                              img_size=(360, 640), \n",
        "                              transform=transform)\n",
        "\n",
        "val_dataset = ImageDataset(root_dir='validation/',\n",
        "                            txt_files='data/val_list.txt', \n",
        "                            img_size=(360, 640), \n",
        "                            transform=transform)\n",
        "train_loader = DataLoader(train_dataset, batch_size=batch_size,\n",
        "                              shuffle=True, num_workers=4)\n",
        "val_loader = DataLoader(val_dataset, batch_size=batch_size,\n",
        "                            shuffle=True, num_workers=4)"
      ],
      "execution_count": null,
      "outputs": []
    },
    {
      "cell_type": "code",
      "metadata": {
        "id": "O6u12I4lcyDR",
        "colab": {
          "base_uri": "https://localhost:8080/",
          "height": 305
        },
        "outputId": "91c6a937-6487-4573-95e0-ea113d58655f"
      },
      "source": [
        "criterion = CrossEntropyLoss2d()\n",
        "optimizer = torch.optim.Adam(net.parameters(),5e-4,(0.9, 0.999), eps=1e-08, weight_decay=1e-4)\n",
        "\n",
        "for epoch in range(num_epochs):\n",
        "    train_loss, acc, train_jsc = train_one_epoch(net, criterion, optimizer, train_loader, device)\n",
        "    val_loss , val_acc, val_jsc = validate_model(net, criterion, val_loader, device)\n",
        "\n",
        "    print('Epoch: {}'.format(epoch))\n",
        "    print('Training acc: {:.4f}\\tTrain_jsc: {:.4f}\\tTraining Loss: {:.4f}'.format(acc,train_jsc,train_loss))\n",
        "    print('Valid acc: {:.4f}\\tValid_jsc: {:.4f}\\tValid Loss: {:.4f}'.format(val_acc,val_jsc, val_loss))\n",
        "\n",
        "    if val_acc > max_acc:\n",
        "        \n",
        "        torch.save(net.state_dict(), '/content/drive/MyDrive/checkpoints/ERF_epoch_' + str(epoch) + '_acc_{0:.4f}'.format(val_acc)+'.pt')\n",
        "        max_acc = val_acc\n",
        "        not_improved_count = 0\n",
        "    else:\n",
        "        not_improved_count+=1\n",
        "    \n",
        "    if not_improved_count >=patience:\n",
        "        break\n",
        "\n",
        "\n",
        "\n"
      ],
      "execution_count": null,
      "outputs": []
    },
    {
      "cell_type": "code",
      "metadata": {
        "id": "jrBqav9rj1bn"
      },
      "source": [],
      "execution_count": null,
      "outputs": []
    }
  ]
}