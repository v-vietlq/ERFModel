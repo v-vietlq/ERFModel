{
 "metadata": {
  "language_info": {
   "codemirror_mode": {
    "name": "ipython",
    "version": 3
   },
   "file_extension": ".py",
   "mimetype": "text/x-python",
   "name": "python",
   "nbconvert_exporter": "python",
   "pygments_lexer": "ipython3",
   "version": "3.8.3"
  },
  "orig_nbformat": 2,
  "kernelspec": {
   "name": "python383jvsc74a57bd03b7ace9d27dc1c502e3dae86da5e8433e0698b131550d06efd3a9ab1da013269",
   "display_name": "Python 3.8.3 64-bit ('base': conda)"
  }
 },
 "nbformat": 4,
 "nbformat_minor": 2,
 "cells": [
  {
   "cell_type": "code",
   "execution_count": 3,
   "metadata": {},
   "outputs": [],
   "source": [
    "import numpy as np\n",
    "from PIL import Image\n",
    "import torch\n",
    "import torchvision.transforms as T\n",
    "from torchvision import transforms\n",
    "from models.erfnet_road import ERFNet\n",
    "import cv2\n",
    "from inference import preprocess, segmentation, visualize"
   ]
  },
  {
   "cell_type": "code",
   "execution_count": 4,
   "metadata": {},
   "outputs": [],
   "source": [
    "torch.backends.cudnn.enabled = True\n",
    "torch.backends.cudnn.benchmark = True\n",
    "np.random.seed(50)\n",
    "torch.manual_seed(50)\n",
    "\n",
    "if torch.cuda.is_available():\n",
    "    torch.cuda.manual_seed(50)\n",
    "\n",
    "device = torch.device(\"cuda:0\" if torch.cuda.is_available() else \"cpu\")"
   ]
  },
  {
   "cell_type": "code",
   "execution_count": 5,
   "metadata": {},
   "outputs": [],
   "source": [
    "net = ERFNet(num_classes=4)"
   ]
  },
  {
   "cell_type": "code",
   "execution_count": 6,
   "metadata": {},
   "outputs": [
    {
     "output_type": "execute_result",
     "data": {
      "text/plain": [
       "<All keys matched successfully>"
      ]
     },
     "metadata": {},
     "execution_count": 6
    }
   ],
   "source": [
    "checkpoint = torch.load('./pretrained_models/ERF_epoch_32_acc_0.7833.pt',map_location=device)\n",
    "multigpus = True\n",
    "for key in checkpoint:  # check if the model was trained in multiple gpus\n",
    "    if 'module' in key:\n",
    "        multigpus = multigpus and True\n",
    "    else:\n",
    "        multigpus = False\n",
    "if multigpus:\n",
    "    net = torch.nn.DataParallel(net)\n",
    "net.load_state_dict(checkpoint)\n"
   ]
  },
  {
   "cell_type": "code",
   "execution_count": 7,
   "metadata": {},
   "outputs": [
    {
     "output_type": "execute_result",
     "data": {
      "text/plain": [
       "True"
      ]
     },
     "metadata": {},
     "execution_count": 7
    }
   ],
   "source": [
    "input_path = 'freespace_lanemarking_segmentation_data_test/img_test/autopilot_test_0001_20101230_021815_000172.png'\n",
    "img = Image.open(input_path)\n",
    "origin_height = img.size[1]\n",
    "origin_width = img.size[0]\n",
    "preprocess_img = preprocess(img, height=360, width=640)\n",
    "\n",
    "seg_map = segmentation(preprocess_img, origin_height, origin_width, net, device)\n",
    "\n",
    "overlaid_img = visualize(seg_map, np.asarray(img))\n",
    "\n",
    "combined_img = np.concatenate((np.asarray(img), overlaid_img), axis=1)\n",
    "\n",
    "cv2.imwrite('ouput.jpg', combined_img)\n"
   ]
  },
  {
   "cell_type": "code",
   "execution_count": null,
   "metadata": {},
   "outputs": [],
   "source": []
  }
 ]
}